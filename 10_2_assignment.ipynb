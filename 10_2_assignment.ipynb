{
  "cells": [
    {
      "cell_type": "markdown",
      "metadata": {
        "id": "view-in-github",
        "colab_type": "text"
      },
      "source": [
        "<a href=\"https://colab.research.google.com/github/myroslava-martyniuk/Martyniuk_Assignments/blob/main/10_2_assignment.ipynb\" target=\"_parent\"><img src=\"https://colab.research.google.com/assets/colab-badge.svg\" alt=\"Open In Colab\"/></a>"
      ]
    },
    {
      "cell_type": "markdown",
      "metadata": {
        "id": "oY7M_WqQy7zz"
      },
      "source": [
        "# Assignment 10.2\n",
        "\n",
        "> Replace all TODOs with your code. Do not change any other code."
      ]
    },
    {
      "cell_type": "code",
      "execution_count": null,
      "metadata": {
        "id": "DCZ2nU3KCFyk"
      },
      "outputs": [],
      "source": [
        "# Do not edit this cell\n",
        "\n",
        "import csv\n",
        "import unittest\n"
      ]
    },
    {
      "cell_type": "markdown",
      "metadata": {
        "id": "Jz8SYjAz0N8D"
      },
      "source": [
        "## Clean code"
      ]
    },
    {
      "cell_type": "markdown",
      "metadata": {
        "id": "IHwd1Zzby7z1"
      },
      "source": [
        "### Task 1\n",
        "\n",
        "You are given a function that reads a csv file with temperature measurements (see example below), converts Fahrenheit values to Celsius, calculates and prints some statistics, and writes to another file. It looks a bit messy, let's clean it up!\n",
        "\n",
        "Example file:\n",
        "```csv\n",
        "Temperature (F)\n",
        "78.5\n",
        "81.2\n",
        "75.9\n",
        "82.1\n",
        "```\n",
        "\n",
        "Do the steps below one by one, editing the code in the cell:\n",
        "1. Naming is so ambiguous and unclear, let's rename variables and function name with proper names.\n",
        "2. Are these comments really useful?\n",
        "3. This function does quite a lot, let's divide it in the way that each function does only one thing, and there's one main function that uses others.\n",
        "4. There seem to be some magic coefficients in the temperature conversion part; let's make them obvious.\n",
        "\n",
        "If you find any additional improvements, feel free to implement them and leave a comment under your code with an explanation."
      ]
    },
    {
      "cell_type": "code",
      "execution_count": null,
      "metadata": {
        "tags": [
          "task_1"
        ],
        "id": "uBoo2azsCFyv"
      },
      "outputs": [],
      "source": [
        "import csv\n",
        "\n",
        "def read_temperatures(temperatures_file_fahrenheit):\n",
        "    temperatures = []\n",
        "\n",
        "    with open(temperatures_file_fahrenheit, 'r') as file:\n",
        "        reader = csv.reader(file)\n",
        "        next(reader)  # Skip header row\n",
        "        for row in reader:\n",
        "          temperatures.append(float(row[0]))\n",
        "        return temperatures\n",
        "\n",
        "def convert_to_celsius(temperatures_in_fahrenheit):\n",
        "    celsius_temperatures = []\n",
        "    for fahr_temp in temperatures_in_fahrenheit:\n",
        "      celsius_temp = (fahr_temp - 32) * 5 / 9\n",
        "      celsius_temperatures.append(celsius_temp)\n",
        "    return celsius_temperatures\n",
        "\n",
        "def calculate_statistics(temperatures):\n",
        "    average = sum(temperatures) / len(temperatures)\n",
        "    minimum = min(temperatures)\n",
        "    maximum = max(temperatures)\n",
        "    return average, minimum, maximum\n",
        "\n",
        "def output_temperatures_to_csv(temperatures, temperatures_file_celsius):\n",
        "    with open(temperatures_file_celsius, 'w', newline='') as file:\n",
        "        writer = csv.writer(file)\n",
        "        writer.writerow(['Temperature (C)'])\n",
        "        for temp in temperatures:\n",
        "            writer.writerow([temp])\n",
        "\n",
        "if __name__ == \"__main__\":\n",
        "\n",
        "    temperatures_fahrenheit = read_temperatures('temperatures.csv')\n",
        "    temperatures_celsius = convert_to_celsius(temperatures_fahrenheit)\n",
        "    average, minimum, maximum = calculate_statistics(temperatures_celsius)\n",
        "\n",
        "    print(\"Statistics:\")\n",
        "    print(f\"Average: {average:.2f}°C\")\n",
        "    print(f\"Minimum: {min:.2f}°C\")\n",
        "    print(f\"Maximum: {max:.2f}°C\")\n",
        "\n",
        "    output_temperatures_to_csv(temperatures_celsius, 'temperatures_celsius.csv')"
      ]
    },
    {
      "cell_type": "markdown",
      "metadata": {
        "id": "lL-ELM-Ay7z2"
      },
      "source": [
        "### Task 2\n",
        "\n",
        "How would you write tests for the initial implementation? What exactly would you test in the function?\n",
        "\n",
        "I hope you see now that once functionality is separated, it's easier to test it in isolation. So, let's write a couple of unit tests for your function and one integration test for your main function.\n",
        "\n",
        "Hint: you would probably want to mock reading from/writing to file to make the test independent from the environment."
      ]
    },
    {
      "cell_type": "code",
      "execution_count": 5,
      "metadata": {
        "id": "cibiSsjry7z3",
        "tags": [
          "task_2"
        ]
      },
      "outputs": [],
      "source": [
        "import unittest\n",
        "from unittest.mock import patch\n",
        "\n",
        "class UnitTestCase(unittest.TestCase):\n",
        "    @patch('__main__.read_temperatures')\n",
        "    def test_read_temperatures_mock(self, mock_read):\n",
        "      mock_data = [['78.5'], ['81.2'], ['75.9'], ['82.1']]\n",
        "      mock_read.return_value = [float(row[0]) for row in mock_data]\n",
        "\n",
        "      temperatures = read_temperatures('test.csv')\n",
        "\n",
        "      mock_read.assert_called_once_with('test.csv')\n",
        "\n",
        "      self.assertEqual(temperatures, [78.5, 81.2, 75.9, 82.1])\n",
        "\n",
        "\n",
        "class IntegrationTestCase(unittest.TestCase):\n",
        "    @patch('__main__.read_temperatures')\n",
        "    @patch('__main__.output_temperatures_to_csv')\n",
        "    def test_main_function(self, mock_write, mock_read):\n",
        "      mock_data = [['78.5'], ['81.2'], ['75.9'], ['82.1']]\n",
        "      expected_celsius = [25.83, 27.33, 24.44, 27.83]\n",
        "\n",
        "      mock_read.return_value = [float(row[0]) for row in mock_data]\n",
        "      mock_read.assert_called_once_with('temperatures.csv')\n",
        "      mock_write.assert_called_once_with(expected_celsius, 'temperatures_celsius.csv')\n"
      ]
    }
  ],
  "metadata": {
    "colab": {
      "provenance": [],
      "include_colab_link": true
    },
    "kernelspec": {
      "display_name": "venv",
      "language": "python",
      "name": "python3"
    },
    "language_info": {
      "codemirror_mode": {
        "name": "ipython",
        "version": 3
      },
      "file_extension": ".py",
      "mimetype": "text/x-python",
      "name": "python",
      "nbconvert_exporter": "python",
      "pygments_lexer": "ipython3",
      "version": "3.11.5"
    },
    "orig_nbformat": 4
  },
  "nbformat": 4,
  "nbformat_minor": 0
}