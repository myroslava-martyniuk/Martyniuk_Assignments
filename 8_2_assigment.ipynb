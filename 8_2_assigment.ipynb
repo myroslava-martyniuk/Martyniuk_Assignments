{
  "cells": [
    {
      "cell_type": "markdown",
      "metadata": {
        "id": "view-in-github",
        "colab_type": "text"
      },
      "source": [
        "<a href=\"https://colab.research.google.com/github/myroslava-martyniuk/Martyniuk_Assignments/blob/main/8_2_assigment.ipynb\" target=\"_parent\"><img src=\"https://colab.research.google.com/assets/colab-badge.svg\" alt=\"Open In Colab\"/></a>"
      ]
    },
    {
      "cell_type": "markdown",
      "metadata": {
        "id": "ozOVKEIKm8aP"
      },
      "source": [
        "# Assignment 8.2\n",
        "\n",
        "> Replace all TODOs with your code.\n",
        ">\n",
        "> Do not change any other code and do not add/remove cells!"
      ]
    },
    {
      "cell_type": "markdown",
      "metadata": {
        "id": "GRPST61knD1_"
      },
      "source": [
        "## Inheritance"
      ]
    },
    {
      "cell_type": "markdown",
      "metadata": {
        "id": "TIeo4PGfnH_f"
      },
      "source": [
        "### Task 1\n",
        "\n",
        "Define a base class named `Account` to a general bank account.\n",
        "\n",
        "The class should include an initialization method (`__init__`), taking into account the number and holder name and methods for depositing money to the account and withdrawing from it. Do not forget to ensure that the account never has a negative balance.\n",
        "\n",
        "String representation (`__str__`) should be an abstract method (throw a corresponding error if it is called on the base `Account` class"
      ]
    },
    {
      "cell_type": "code",
      "execution_count": 6,
      "metadata": {
        "id": "es4kM6panjNB"
      },
      "outputs": [],
      "source": [
        "class Account:\n",
        "    def __init__(self, account_number, holder_name, balance):\n",
        "      self.account_number = account_number\n",
        "      self.holder_name = holder_name\n",
        "      self.balance = balance\n",
        "      if balance < 0:\n",
        "        raise ValueError(\"Balance cannot be negative.\")\n",
        "\n",
        "    def deposit(self, amount):\n",
        "      self.balance += amount\n",
        "\n",
        "    def withdraw(self, amount):\n",
        "      if amount > self.balance:\n",
        "        raise ValueError(\"Insufficient amount on account for withdrawal\")\n",
        "      self.balance -= amount\n",
        "\n",
        "    def __str__(self):\n",
        "      raise NotImplementedError()\n"
      ]
    },
    {
      "cell_type": "markdown",
      "metadata": {
        "id": "4FjqIBbCnqh3"
      },
      "source": [
        "### Task 2\n",
        "\n",
        "Derive a `CurrentAccount` subclass from the `Account` base class and provide its own implementation for the `__str__` method. The text representation should mention the type of account, account number, and remaining balance."
      ]
    },
    {
      "cell_type": "code",
      "execution_count": 8,
      "metadata": {
        "id": "VNhS9FjCr-_k"
      },
      "outputs": [],
      "source": [
        "class CurrentAccount(Account):\n",
        "    def __str__(self):\n",
        "      return f\"Current Account: Account Number: {self.account_number}, Owner: {self.holder_name}, balance: {self.balance}\""
      ]
    },
    {
      "cell_type": "markdown",
      "metadata": {
        "id": "h-CdQzoOtjy6"
      },
      "source": [
        "### Task 3\n",
        "\n",
        "Derive a `SavingsAccount` subclass from the `Account` base class and provide its implementation for the `__str__` method. When initializing objects of this class, the caller must provide the `interest_rate` parameter.\n",
        "\n",
        " The text representation should mention the type of account, interest rate, account number, and remaining balance.\n",
        "\n",
        "Provide additional method `add_interest` that adds interest based on `interest_rate`:\n",
        "$$new\\_balance = old\\_balance + old\\_balance * interest\\_rate$$"
      ]
    },
    {
      "cell_type": "code",
      "execution_count": 9,
      "metadata": {
        "id": "akQXzV_vtweO"
      },
      "outputs": [],
      "source": [
        "class SavingsAccount(Account):\n",
        "    def __init__(self, account_number, holder_name, balance, interest_rate):\n",
        "      super().__init__(account_number, holder_name, balance)\n",
        "      self.interest_rate = interest_rate\n",
        "\n",
        "    def __str__(self):\n",
        "      return f\"Savings Account parameters: Interest Rate: {self.interest_rate}, Account Number: {self.account_number}, Owner: {self.holder_name}, Balance: {self.balance}\"\n",
        "\n",
        "    def add_interest(self):\n",
        "      interest_amount = self.balance * self.interest_rate\n",
        "      self.balance += interest_amount"
      ]
    },
    {
      "cell_type": "markdown",
      "metadata": {
        "id": "724_WyJry8i9"
      },
      "source": [
        "### Task 4\n",
        "\n",
        "Create an array with different accounts, add/withdraw money from some of them, iterate over the array, and print the text representation of each."
      ]
    },
    {
      "cell_type": "code",
      "execution_count": 10,
      "metadata": {
        "id": "BDZA3L25zZEo",
        "outputId": "a5ecaf3d-8d4b-4820-9d36-17384c528059",
        "colab": {
          "base_uri": "https://localhost:8080/"
        }
      },
      "outputs": [
        {
          "output_type": "stream",
          "name": "stdout",
          "text": [
            "Current Account: Account Number: 123456, Owner: Mira Mira, balance: 1500\n",
            "Savings Account parameters: Interest Rate: 0.02, Account Number: 654321, Owner: Slava Slava, Balance: 400\n",
            "Current Account: Account Number: 789012, Owner: Vira Vira, balance: 2500\n"
          ]
        }
      ],
      "source": [
        "accounts = [\n",
        "    CurrentAccount(\"123456\", \"Mira Mira\", 1000),\n",
        "    SavingsAccount(\"654321\", \"Slava Slava\", 500, 0.02),\n",
        "    CurrentAccount(\"789012\", \"Vira Vira\", 2500)\n",
        "]\n",
        "\n",
        "accounts[0].deposit(500)\n",
        "accounts[1].withdraw(100)\n",
        "\n",
        "for account in accounts:\n",
        "    print(account)"
      ]
    }
  ],
  "metadata": {
    "colab": {
      "provenance": [],
      "toc_visible": true,
      "include_colab_link": true
    },
    "kernelspec": {
      "display_name": "Python 3",
      "name": "python3"
    },
    "language_info": {
      "name": "python"
    }
  },
  "nbformat": 4,
  "nbformat_minor": 0
}