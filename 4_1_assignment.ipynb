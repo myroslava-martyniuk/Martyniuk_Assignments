{
  "cells": [
    {
      "cell_type": "markdown",
      "metadata": {
        "id": "view-in-github",
        "colab_type": "text"
      },
      "source": [
        "<a href=\"https://colab.research.google.com/github/myroslava-martyniuk/Martyniuk_Assignments/blob/main/4_1_assignment.ipynb\" target=\"_parent\"><img src=\"https://colab.research.google.com/assets/colab-badge.svg\" alt=\"Open In Colab\"/></a>"
      ]
    },
    {
      "cell_type": "markdown",
      "metadata": {
        "id": "-89_Z_je0cfL"
      },
      "source": [
        "# Assignment 4.1\n",
        "\n",
        "> Replace all TODOs with your code.\n",
        ">\n",
        "> Do not change any other code and do not add/remove cells!"
      ]
    },
    {
      "cell_type": "markdown",
      "metadata": {
        "id": "w6E-GxTB0j4M"
      },
      "source": [
        "## Sets"
      ]
    },
    {
      "cell_type": "markdown",
      "metadata": {
        "id": "iEwuf_DP0cfM"
      },
      "source": [
        "### Task 1\n",
        "\n",
        "Create an empty set called 'my_set'."
      ]
    },
    {
      "cell_type": "code",
      "execution_count": null,
      "metadata": {
        "id": "IWVOCWxx0cfM",
        "tags": [
          "task_1"
        ]
      },
      "outputs": [],
      "source": [
        "my_set = set()\n",
        "\n",
        "print(my_set)  # should print set()"
      ]
    },
    {
      "cell_type": "markdown",
      "metadata": {
        "id": "2z8HqsaK0cfN"
      },
      "source": [
        "### Task 2\n",
        "\n",
        "Let's turn a given sentence into a set of words.\n"
      ]
    },
    {
      "cell_type": "code",
      "execution_count": null,
      "metadata": {
        "id": "kva_9ycA0cfN",
        "tags": [
          "task_2"
        ]
      },
      "outputs": [],
      "source": [
        "sentence = \"abc cba acd abc\"\n",
        "sentence_splitted = sentence.split(' ')\n",
        "\n",
        "words = set(sentence_splitted)\n",
        "\n",
        "print(words)  # should be {'acd', 'cba', 'abc'} or in other order"
      ]
    },
    {
      "cell_type": "markdown",
      "metadata": {
        "id": "IqjW7SGS0cfN"
      },
      "source": [
        "### Task 3\n",
        "\n",
        "Now, let's remove from `words` all the words that are present in `sentence2`."
      ]
    },
    {
      "cell_type": "code",
      "execution_count": null,
      "metadata": {
        "id": "p83RQvA40cfN",
        "tags": [
          "task_3"
        ]
      },
      "outputs": [],
      "source": [
        "sentence2 = 'cba baa acc'\n",
        "sentence2_splitted = sentence2.split(' ')\n",
        "words2 = set(sentence2_splitted)\n",
        "intersected = set(words.intersection(words2))\n",
        "\n",
        "words = words - intersected\n",
        "\n",
        "print(words)  # should print {'acd', 'abc'} or {'abc', 'acd'}"
      ]
    },
    {
      "cell_type": "markdown",
      "metadata": {
        "id": "fceBNTpUnip6"
      },
      "source": [
        "### Task 4\n",
        "\n",
        "Let's now play around with statistics and probability!\n",
        "\n",
        "Generate `N` random numbers in the range `[1, N]` and keep track of a percent of unique numbers in the result.\n",
        "Play around with different values of `N`; how does it affect the percentage of unique numbers? How do you think why?"
      ]
    },
    {
      "cell_type": "code",
      "execution_count": null,
      "metadata": {
        "id": "VsoALrbBnsjs",
        "tags": [
          "task_4"
        ]
      },
      "outputs": [],
      "source": [
        "from random import randint\n",
        "\n",
        "N = 10000000\n",
        "\n",
        "statistics = set()\n",
        "\n",
        "for i in range(N):\n",
        "  statistics.add(randint(1,N))\n",
        "unique_values = len(statistics)\n",
        "print(unique_values/N*100)\n",
        "\n",
        "\n"
      ]
    },
    {
      "cell_type": "markdown",
      "metadata": {
        "id": "i97oe-zR9xP_"
      },
      "source": [
        "For math geeks: if you set rather big `N`, you see that the percentage is slowly approaching ~63.21. It is a modification of a [Birthday problem](https://en.wikipedia.org/wiki/Birthday_problem), but a simpler and more relevant explanation is [here](https://math.stackexchange.com/questions/5775/how-many-bins-do-random-numbers-fill).\n"
      ]
    },
    {
      "cell_type": "markdown",
      "metadata": {
        "id": "MJ03abgc9xQA"
      },
      "source": [
        "## Dictionaries"
      ]
    },
    {
      "cell_type": "markdown",
      "metadata": {
        "id": "NYrbhOY19xQA"
      },
      "source": [
        "### Task 5\n",
        "\n",
        "You are given a matrix `m`. Return a distinct list containing all the values that are present in at least `n` rows.\n",
        "\n",
        "Hint: there can be duplicates in rows; perhaps we would want to eliminate them - how?"
      ]
    },
    {
      "cell_type": "code",
      "execution_count": null,
      "metadata": {
        "id": "tBxoArVb9xQA"
      },
      "outputs": [],
      "source": [
        "m = [\n",
        "    [1, 1, 2, 3],\n",
        "    [1, 2, 6, 7],\n",
        "    [1, 7, 9, 9]\n",
        "]\n",
        "\n",
        "n = 2\n",
        "res = []\n",
        "\n",
        "str(m)\n",
        "result = [list(set(ele)) for ele in m]\n",
        "\n",
        "dictionary = {}\n",
        "for i in result:\n",
        "  for j in i:\n",
        "    if j not in dictionary.keys():\n",
        "      dictionary[j] = 1\n",
        "    else:\n",
        "      dictionary[j] += 1\n",
        "\n",
        "for i in dictionary:\n",
        "  if dictionary[i] >= n:\n",
        "    res.append(i)\n",
        "print(res)\n",
        "\n",
        "#print(res)  # should print [1, 2, 7]"
      ]
    }
  ],
  "metadata": {
    "colab": {
      "provenance": [],
      "toc_visible": true,
      "include_colab_link": true
    },
    "kernelspec": {
      "display_name": "venv",
      "language": "python",
      "name": "python3"
    },
    "language_info": {
      "codemirror_mode": {
        "name": "ipython",
        "version": 3
      },
      "file_extension": ".py",
      "mimetype": "text/x-python",
      "name": "python",
      "nbconvert_exporter": "python",
      "pygments_lexer": "ipython3",
      "version": "3.11.5"
    },
    "orig_nbformat": 4
  },
  "nbformat": 4,
  "nbformat_minor": 0
}