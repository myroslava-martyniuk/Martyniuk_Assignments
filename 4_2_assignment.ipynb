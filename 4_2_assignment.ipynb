{
  "cells": [
    {
      "cell_type": "markdown",
      "metadata": {
        "id": "view-in-github",
        "colab_type": "text"
      },
      "source": [
        "<a href=\"https://colab.research.google.com/github/myroslava-martyniuk/Martyniuk_Assignments/blob/main/4_2_assignment.ipynb\" target=\"_parent\"><img src=\"https://colab.research.google.com/assets/colab-badge.svg\" alt=\"Open In Colab\"/></a>"
      ]
    },
    {
      "cell_type": "markdown",
      "metadata": {
        "id": "-89_Z_je0cfL"
      },
      "source": [
        "# Assignment 4.2\n",
        "\n",
        "> Replace all TODOs with your code.\n",
        ">\n",
        "> Do not change any other code and do not add/remove cells!"
      ]
    },
    {
      "cell_type": "code",
      "execution_count": null,
      "metadata": {
        "id": "4Zt3Ez5bCm1Q"
      },
      "outputs": [],
      "source": [
        "# Do not edit this cell\n",
        "\n",
        "from typing import List, Tuple"
      ]
    },
    {
      "cell_type": "markdown",
      "metadata": {
        "id": "w6E-GxTB0j4M"
      },
      "source": [
        "## Complexity"
      ]
    },
    {
      "cell_type": "markdown",
      "metadata": {
        "id": "iEwuf_DP0cfM"
      },
      "source": [
        "### Task 1\n",
        "\n",
        "For example, let's take a simple problem - find a maximum element in an input list. We know that the list is sorted in ascending order.\n",
        "\n",
        "Write a function `find_max(li: List[int]) -> int` that would return a maximum element of a sorted list `li`. You can assume `li` to be non-empty. As a last command of your cell, print the complexity of your algorithm. It should be one of:\n",
        "\n",
        "`{O(1), O(log n), O(n), O(nlog n), O(n^2), O(2^n)}`.\n",
        "\n",
        "Note: do not use `max` built-in function."
      ]
    },
    {
      "cell_type": "code",
      "execution_count": null,
      "metadata": {
        "id": "IWVOCWxx0cfM",
        "tags": [
          "task_1"
        ]
      },
      "outputs": [],
      "source": [
        "def find_max(li: list[int]) -> int:\n",
        "    max_number = li[-1]\n",
        "    return(max_number)\n",
        "\n",
        "\n",
        "my_list = [1,5,16,23]\n",
        "max_number = find_max(my_list)\n",
        "print(max_number)\n",
        "print('O(1)')"
      ]
    },
    {
      "cell_type": "markdown",
      "metadata": {
        "id": "2z8HqsaK0cfN"
      },
      "source": [
        "### Task 2\n",
        "\n",
        "The same problem, now we don't know anything about the order in `li`. What's the complexity then? Print it as the last command of the cell.\n",
        "\n",
        "Note: do not use `max` built-in function.\n"
      ]
    },
    {
      "cell_type": "code",
      "execution_count": null,
      "metadata": {
        "id": "kva_9ycA0cfN",
        "tags": [
          "task_2"
        ]
      },
      "outputs": [],
      "source": [
        "def find_max(li: list[int]) -> int:\n",
        "    li.sort()\n",
        "    max_number = li[-1]\n",
        "    return(max_number)\n",
        "\n",
        "def find_max_2(li: list[int]) -> int:\n",
        "  max_number = li[0]\n",
        "  for i in range(1, len(li)):\n",
        "    if max_number < li[i]:\n",
        "      max_number = li[i]\n",
        "  return(max_number)\n",
        "\n",
        "\n",
        "\n",
        "my_list = [10, 114, 1, 3]\n",
        "max_number = find_max(my_list)\n",
        "max_number2 = find_max_2(my_list)\n",
        "print(max_number, max_number2)\n",
        "print('For find_max function the complexity is O(nlog n) because sort. function has the mentioned complexity.\\nFor find_max_2 function the complexity is O(n)')"
      ]
    },
    {
      "cell_type": "markdown",
      "metadata": {
        "id": "IqjW7SGS0cfN"
      },
      "source": [
        "### Task 3\n",
        "\n",
        "Now we are playing the guessing game! The user guesses the number between 1 and `n`, and your program makes guesses. If the guess is higher than the initial number, the user enters '<', if the number is lower - '>'. If the guess is correct, a user enters 'bingo'.\n",
        "\n",
        "Implement the program to play the game. As a last command of your cell, print the complexity of your algorithm (or the worst-case number of guesses your program needs to make before the correct guess). It should be one of:\n",
        "\n",
        "`{O(1), O(log n), O(n), O(nlog n), O(n^2), O(2^n)}`."
      ]
    },
    {
      "cell_type": "code",
      "execution_count": null,
      "metadata": {
        "id": "p83RQvA40cfN",
        "tags": [
          "task_3"
        ]
      },
      "outputs": [],
      "source": [
        "n = 100\n",
        "a = 1\n",
        "b = n\n",
        "\n",
        "print('Please guess the number between a and b')\n",
        "\n",
        "for i in range(a, b):\n",
        "    guess = (a+b)//2\n",
        "    answer = input(f\"If  {guess} is higher than your number, please enter '<', if {guess} is lower - '>'. If {guess} is your number, please enter 'bingo'\")\n",
        "\n",
        "    if answer == '>':\n",
        "        a = guess+1\n",
        "        print(answer)\n",
        "\n",
        "\n",
        "    elif answer == '<':\n",
        "        b = guess-1\n",
        "        print(answer)\n",
        "\n",
        "    elif answer == 'bingo':\n",
        "        print('Victory!')\n",
        "        break\n",
        "\n",
        "    else:\n",
        "        print(f'The iunput is invalid. {answer}')\n",
        "\n",
        "print('O(log n)')"
      ]
    }
  ],
  "metadata": {
    "colab": {
      "provenance": [],
      "toc_visible": true,
      "include_colab_link": true
    },
    "kernelspec": {
      "display_name": "venv",
      "language": "python",
      "name": "python3"
    },
    "language_info": {
      "codemirror_mode": {
        "name": "ipython",
        "version": 3
      },
      "file_extension": ".py",
      "mimetype": "text/x-python",
      "name": "python",
      "nbconvert_exporter": "python",
      "pygments_lexer": "ipython3",
      "version": "3.11.5"
    },
    "orig_nbformat": 4
  },
  "nbformat": 4,
  "nbformat_minor": 0
}