{
  "cells": [
    {
      "cell_type": "markdown",
      "metadata": {
        "id": "view-in-github",
        "colab_type": "text"
      },
      "source": [
        "<a href=\"https://colab.research.google.com/github/myroslava-martyniuk/Martyniuk_Assignments/blob/main/8_1_assigment.ipynb\" target=\"_parent\"><img src=\"https://colab.research.google.com/assets/colab-badge.svg\" alt=\"Open In Colab\"/></a>"
      ]
    },
    {
      "cell_type": "markdown",
      "metadata": {
        "id": "2_R_Ya7UhcB8"
      },
      "source": [
        "# Assignment 8.1\n",
        "\n",
        "> Replace all TODOs with your code.\n",
        ">\n",
        "> Do not change any other code and do not add/remove cells!"
      ]
    },
    {
      "cell_type": "markdown",
      "metadata": {
        "id": "N1SWwMSshfVz"
      },
      "source": [
        "## Classes"
      ]
    },
    {
      "cell_type": "markdown",
      "metadata": {
        "id": "OY8NxJ-CiePg"
      },
      "source": [
        "### Task 1\n",
        "\n",
        "Define a Python class named `Interval` with the following specifications:\n",
        "\n",
        "1. The class should have a constructor (\\_\\_init__) that takes two parameters, start and end, and initializes the interval with these values.\n",
        "2. Ensure that both start and end are numeric (either integers or floats).\n",
        "3. Ensure that the start value is less than or equal to the end value.\n",
        "4. Provide a \\_\\_str__ method to return a string representation of the interval in the format \"[start, end]\"."
      ]
    },
    {
      "cell_type": "code",
      "execution_count": 15,
      "metadata": {
        "id": "VBFmFWDXjQPT",
        "outputId": "3800ae1f-724f-4d86-9ea6-565d4e439320",
        "colab": {
          "base_uri": "https://localhost:8080/"
        }
      },
      "outputs": [
        {
          "output_type": "stream",
          "name": "stdout",
          "text": [
            "[1, 5]\n"
          ]
        }
      ],
      "source": [
        "class Interval:\n",
        "    def __init__(self, start, end):\n",
        "\n",
        "      if isinstance(start, (int, float)) and isinstance(end, (int, float)) and start <= end:\n",
        "        self.start = start\n",
        "        self.end = end\n",
        "      else:\n",
        "        print('Start and/or end is not a numeric value or end value is less than start value')\n",
        "\n",
        "\n",
        "    def __str__(self):\n",
        "      return f\"[{self.start}, {self.end}]\"\n",
        "\n",
        "\n",
        "interval = Interval(1, 5)\n",
        "print(interval) # [1, 5]"
      ]
    },
    {
      "cell_type": "markdown",
      "metadata": {
        "id": "pJ72CYiylhIY"
      },
      "source": [
        "### Task 2\n",
        "\n",
        "Expand the Interval class by adding a method named `is_overlapping` that checks whether the current interval overlaps with another interval. The method should take another Interval object as a parameter and return `True` if there is an overlap and `False` otherwise."
      ]
    },
    {
      "cell_type": "code",
      "execution_count": 25,
      "metadata": {
        "id": "7t64cfMdl3qe",
        "outputId": "ff1fa30f-81c3-4d85-abe7-7417ec75ad18",
        "colab": {
          "base_uri": "https://localhost:8080/"
        }
      },
      "outputs": [
        {
          "output_type": "stream",
          "name": "stdout",
          "text": [
            "Do intervals overlap? False\n"
          ]
        }
      ],
      "source": [
        "class Interval:\n",
        "    def __init__(self, start, end):\n",
        "\n",
        "      if isinstance(start, (int, float)) and isinstance(end, (int, float)) and start <= end:\n",
        "        self.start = start\n",
        "        self.end = end\n",
        "      else:\n",
        "        print('Start and/or end is not a numeric value or end value is less than start value')\n",
        "\n",
        "\n",
        "    def __str__(self):\n",
        "      return f\"[{self.start}, {self.end}]\"\n",
        "\n",
        "    def is_overlapping(self, other_interval):\n",
        "        if (self.start <= other_interval.end) and (self.end >= other_interval.start):\n",
        "          return True\n",
        "        else:\n",
        "          return False\n",
        "\n",
        "\n",
        "interval1 = Interval(1, 5)\n",
        "interval2 = Interval(3, 8)\n",
        "\n",
        "overlap_result = interval1.is_overlapping(interval2)\n",
        "print(\"Do intervals overlap?\", overlap_result) # Do intervals overlap? True"
      ]
    },
    {
      "cell_type": "markdown",
      "metadata": {
        "id": "aelqtEfkni2N"
      },
      "source": [
        "### Task 3\n",
        "\n",
        "Expand the `Interval` class by adding a **static** method named `intersection_static` that calculates the intersection of two overlapping intervals. The static method should take two `Interval` objects as parameters and return a new `Interval` representing the intersection if there is one.\n",
        "\n",
        "The method should return `None` if the intervals do not overlap."
      ]
    },
    {
      "cell_type": "code",
      "execution_count": 29,
      "metadata": {
        "id": "E6DNMmTRoyNa",
        "outputId": "df2c7447-33ad-4f46-cec5-b03b3be07859",
        "colab": {
          "base_uri": "https://localhost:8080/"
        }
      },
      "outputs": [
        {
          "output_type": "stream",
          "name": "stdout",
          "text": [
            "Intersection result (static method): [3, 5]\n"
          ]
        }
      ],
      "source": [
        "class Interval:\n",
        "    def __init__(self, start, end):\n",
        "\n",
        "      if isinstance(start, (int, float)) and isinstance(end, (int, float)) and start <= end:\n",
        "        self.start = start\n",
        "        self.end = end\n",
        "      else:\n",
        "        print('Start and/or end is not a numeric value or end value is less than start value')\n",
        "\n",
        "\n",
        "    def __str__(self):\n",
        "      return f\"[{self.start}, {self.end}]\"\n",
        "\n",
        "    def is_overlapping(self, other_interval):\n",
        "        if (self.start <= other_interval.end) and (self.end >= other_interval.start):\n",
        "          return True\n",
        "        else:\n",
        "          return False\n",
        "\n",
        "    @staticmethod\n",
        "    def intersection_static(interval1, interval2):\n",
        "        if interval1.is_overlapping(interval2):\n",
        "          interval3 = Interval(interval2.start, interval1.end)\n",
        "          return interval3\n",
        "        else:\n",
        "          return None\n",
        "\n",
        "\n",
        "interval1 = Interval(1, 5)\n",
        "interval2 = Interval(3, 8)\n",
        "\n",
        "intersection_result_static = Interval.intersection_static(interval1, interval2)\n",
        "print(\"Intersection result (static method):\", intersection_result_static) # Intersection result (static method): [3, 5]"
      ]
    },
    {
      "cell_type": "markdown",
      "metadata": {
        "id": "xGh7oQHFtsSl"
      },
      "source": [
        "### Task 4\n",
        "\n",
        "Expand the `Interval` class by overloading a math operator \"&\" to calculate the intersection of two overlapping intervals. Define the logic for the intersection using the method from the previous task."
      ]
    },
    {
      "cell_type": "code",
      "execution_count": 33,
      "metadata": {
        "id": "3f3CiUlGu1cq",
        "outputId": "0e0def4e-c57d-415b-8400-cd8818b989ab",
        "colab": {
          "base_uri": "https://localhost:8080/"
        }
      },
      "outputs": [
        {
          "output_type": "stream",
          "name": "stdout",
          "text": [
            "Intersection result: [3, 5]\n"
          ]
        }
      ],
      "source": [
        "class Interval:\n",
        "    def __init__(self, start, end):\n",
        "\n",
        "      if isinstance(start, (int, float)) and isinstance(end, (int, float)) and start <= end:\n",
        "        self.start = start\n",
        "        self.end = end\n",
        "      else:\n",
        "        print('Start and/or end is not a numeric value or end value is less than start value')\n",
        "\n",
        "\n",
        "    def __str__(self):\n",
        "      return f\"[{self.start}, {self.end}]\"\n",
        "\n",
        "    def is_overlapping(self, other_interval):\n",
        "        if (self.start <= other_interval.end) and (self.end >= other_interval.start):\n",
        "          return True\n",
        "        else:\n",
        "          return False\n",
        "\n",
        "    @staticmethod\n",
        "    def intersection_static(interval1, interval2):\n",
        "        if interval1.is_overlapping(interval2):\n",
        "          interval3 = Interval(interval2.start, interval1.end)\n",
        "          return interval3\n",
        "        else:\n",
        "          return None\n",
        "\n",
        "    def __and__(self, other):\n",
        "      return Interval.intersection_static(self, other)\n",
        "\n",
        "\n",
        "interval1 = Interval(1, 5)\n",
        "interval2 = Interval(3, 8)\n",
        "\n",
        "intersection_result = interval1 & interval2\n",
        "print(\"Intersection result:\", intersection_result) # Intersection result: [3, 5]"
      ]
    },
    {
      "cell_type": "markdown",
      "metadata": {
        "id": "51BGij2Tvoka"
      },
      "source": [
        "### Task 5\n",
        "\n",
        "Expand the `Interval` class by adding a static method named `union_static` that calculates the union of two overlapping intervals. The static method should take two Interval objects as parameters and return a new Interval representing the union if there is one.\n",
        "\n",
        "The method should return `None` if the intervals do not overlap."
      ]
    },
    {
      "cell_type": "code",
      "execution_count": 31,
      "metadata": {
        "id": "Xnm1CbK8v2v1",
        "outputId": "9d56e065-9e54-42d3-9e2a-8068b54a4b66",
        "colab": {
          "base_uri": "https://localhost:8080/"
        }
      },
      "outputs": [
        {
          "output_type": "stream",
          "name": "stdout",
          "text": [
            "Union Result (Static method): [1, 8]\n"
          ]
        }
      ],
      "source": [
        "class Interval:\n",
        "    def __init__(self, start, end):\n",
        "\n",
        "      if isinstance(start, (int, float)) and isinstance(end, (int, float)) and start <= end:\n",
        "        self.start = start\n",
        "        self.end = end\n",
        "      else:\n",
        "        print('Start and/or end is not a numeric value or end value is less than start value')\n",
        "\n",
        "\n",
        "    def __str__(self):\n",
        "      return f\"[{self.start}, {self.end}]\"\n",
        "\n",
        "    def is_overlapping(self, other_interval):\n",
        "        if (self.start <= other_interval.end) and (self.end >= other_interval.start):\n",
        "          return True\n",
        "        else:\n",
        "          return False\n",
        "\n",
        "    @staticmethod\n",
        "    def intersection_static(interval1, interval2):\n",
        "        if interval1.is_overlapping(interval2):\n",
        "          interval3 = Interval(interval2.start, interval1.end)\n",
        "          return interval3\n",
        "        else:\n",
        "          return None\n",
        "\n",
        "    def __and__(self, other):\n",
        "      return Interval.intersection_static(self, other)\n",
        "\n",
        "    @staticmethod\n",
        "    def union_static(interval1, interval2):\n",
        "        if interval1.is_overlapping(interval2):\n",
        "          interval3 = Interval(interval1.start, interval2.end)\n",
        "          return interval3\n",
        "        else:\n",
        "          return None\n",
        "\n",
        "interval1 = Interval(1, 5)\n",
        "interval2 = Interval(3, 8)\n",
        "\n",
        "union_result_static = Interval.union_static(interval1, interval2)\n",
        "print(\"Union Result (Static method):\", union_result_static) # Union Result (Static method): [1, 8]"
      ]
    },
    {
      "cell_type": "markdown",
      "metadata": {
        "id": "5yGYlKjCwbzr"
      },
      "source": [
        "### Task 6\n",
        "\n",
        "Expand the `Interval` class by overloading a math operator \"|\" to calculate the union  of two overlapping intervals. Define the logic for the union using the method from the previous task."
      ]
    },
    {
      "cell_type": "code",
      "execution_count": 34,
      "metadata": {
        "id": "xjCgPAy5wu1Z",
        "outputId": "9c127004-4a76-4926-fce7-8997a4f427bf",
        "colab": {
          "base_uri": "https://localhost:8080/"
        }
      },
      "outputs": [
        {
          "output_type": "stream",
          "name": "stdout",
          "text": [
            "Union Result: [1, 8]\n"
          ]
        }
      ],
      "source": [
        "class Interval:\n",
        "    def __init__(self, start, end):\n",
        "\n",
        "      if isinstance(start, (int, float)) and isinstance(end, (int, float)) and start <= end:\n",
        "        self.start = start\n",
        "        self.end = end\n",
        "      else:\n",
        "        print('Start and/or end is not a numeric value or end value is less than start value')\n",
        "\n",
        "\n",
        "    def __str__(self):\n",
        "      return f\"[{self.start}, {self.end}]\"\n",
        "\n",
        "    def is_overlapping(self, other_interval):\n",
        "        if (self.start <= other_interval.end) and (self.end >= other_interval.start):\n",
        "          return True\n",
        "        else:\n",
        "          return False\n",
        "\n",
        "    @staticmethod\n",
        "    def intersection_static(interval1, interval2):\n",
        "        if interval1.is_overlapping(interval2):\n",
        "          interval3 = Interval(interval2.start, interval1.end)\n",
        "          return interval3\n",
        "        else:\n",
        "          return None\n",
        "\n",
        "    def __and__(self, other):\n",
        "      return Interval.intersection_static(self, other)\n",
        "\n",
        "    @staticmethod\n",
        "    def union_static(interval1, interval2):\n",
        "        if interval1.is_overlapping(interval2):\n",
        "          interval3 = Interval(interval1.start, interval2.end)\n",
        "          return interval3\n",
        "        else:\n",
        "          return None\n",
        "\n",
        "    def __or__(self, other):\n",
        "      return Interval.union_static(self, other)\n",
        "\n",
        "\n",
        "interval1 = Interval(1, 5)\n",
        "interval2 = Interval(3, 8)\n",
        "\n",
        "union_result = interval1 | interval2\n",
        "print(\"Union Result:\", union_result) # Union Result: [1, 8]"
      ]
    },
    {
      "cell_type": "markdown",
      "metadata": {
        "id": "N-hiSBEK0fbz"
      },
      "source": [
        "### Task 7 (optional)\n",
        "\n",
        "Expand the `Interval` class by overloading the \"-\" operator to calculate the difference between two intervals. The method should return a new `Interval` representing the portion of the first interval that is not in the second."
      ]
    },
    {
      "cell_type": "code",
      "execution_count": 49,
      "metadata": {
        "id": "YZ5AqAXr002L",
        "outputId": "0484f60c-78f6-45fa-e5b4-9c0998326db2",
        "colab": {
          "base_uri": "https://localhost:8080/"
        }
      },
      "outputs": [
        {
          "output_type": "stream",
          "name": "stdout",
          "text": [
            "Difference Result: [6, 8]\n",
            "Difference Result: [1, 2]\n"
          ]
        }
      ],
      "source": [
        "class Interval:\n",
        "    def __init__(self, start, end):\n",
        "\n",
        "      if isinstance(start, (int, float)) and isinstance(end, (int, float)) and start <= end:\n",
        "        self.start = start\n",
        "        self.end = end\n",
        "      else:\n",
        "        print('Start and/or end is not a numeric value or end value is less than start value')\n",
        "\n",
        "\n",
        "    def __str__(self):\n",
        "      return f\"[{self.start}, {self.end}]\"\n",
        "\n",
        "    def is_overlapping(self, other_interval):\n",
        "        if (self.start <= other_interval.end) and (self.end >= other_interval.start):\n",
        "          return True\n",
        "        else:\n",
        "          return False\n",
        "\n",
        "    @staticmethod\n",
        "    def intersection_static(interval1, interval2):\n",
        "        if interval1.is_overlapping(interval2):\n",
        "          interval3 = Interval(interval2.start, interval1.end)\n",
        "          return interval3\n",
        "        else:\n",
        "          return None\n",
        "\n",
        "    def __and__(self, other):\n",
        "      return Interval.intersection_static(self, other)\n",
        "\n",
        "    @staticmethod\n",
        "    def union_static(interval1, interval2):\n",
        "        if interval1.is_overlapping(interval2):\n",
        "          interval3 = Interval(interval1.start, interval2.end)\n",
        "          return interval3\n",
        "        else:\n",
        "          return None\n",
        "\n",
        "    def __or__(self, other):\n",
        "      return Interval.union_static(self, other)\n",
        "\n",
        "    def __sub__(self, other):\n",
        "      intersected_interval = self & other\n",
        "      union_interval = self | other\n",
        "      if self.is_overlapping(other):\n",
        "        if self.start < other.start:\n",
        "          return Interval(union_interval.start, intersected_interval.start - 1)\n",
        "        else:\n",
        "\n",
        "          return Interval(union_interval.end + 1, intersected_interval.end)\n",
        "\n",
        "\n",
        "\n",
        "interval1 = Interval(1, 5)\n",
        "interval2 = Interval(3, 8)\n",
        "\n",
        "print(\"Difference Result:\", interval1 - interval2) # Union Result: [1, 2]\n",
        "print(\"Difference Result:\", interval2 - interval1) # Union Result: [6, 8]"
      ]
    }
  ],
  "metadata": {
    "colab": {
      "provenance": [],
      "toc_visible": true,
      "include_colab_link": true
    },
    "kernelspec": {
      "display_name": "Python 3",
      "name": "python3"
    },
    "language_info": {
      "name": "python"
    }
  },
  "nbformat": 4,
  "nbformat_minor": 0
}