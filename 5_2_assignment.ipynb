{
  "cells": [
    {
      "cell_type": "markdown",
      "metadata": {
        "id": "view-in-github",
        "colab_type": "text"
      },
      "source": [
        "<a href=\"https://colab.research.google.com/github/myroslava-martyniuk/Martyniuk_Assignments/blob/main/5_2_assignment.ipynb\" target=\"_parent\"><img src=\"https://colab.research.google.com/assets/colab-badge.svg\" alt=\"Open In Colab\"/></a>"
      ]
    },
    {
      "cell_type": "markdown",
      "metadata": {
        "id": "-89_Z_je0cfL"
      },
      "source": [
        "# Assignment 5.2\n",
        "\n",
        "> Replace all TODOs with your code.\n",
        ">\n",
        "> Do not change any other code and do not add/remove cells!"
      ]
    },
    {
      "cell_type": "code",
      "execution_count": null,
      "metadata": {
        "id": "FC70v-1MMOVN"
      },
      "outputs": [],
      "source": [
        "# Do not edit this cell\n",
        "\n",
        "from typing import List, Callable"
      ]
    },
    {
      "cell_type": "markdown",
      "metadata": {
        "id": "w6E-GxTB0j4M"
      },
      "source": [
        "## Decorators"
      ]
    },
    {
      "cell_type": "markdown",
      "metadata": {
        "id": "iEwuf_DP0cfM"
      },
      "source": [
        "### Task 1\n",
        "\n",
        "As you know, the functions are objects and can be passed around the program. Let's write a function `apply` that would take a list and another function. Then, you should apply the function to each element of the list."
      ]
    },
    {
      "cell_type": "code",
      "execution_count": 26,
      "metadata": {
        "id": "IWVOCWxx0cfM",
        "tags": [
          "task_1"
        ],
        "outputId": "bd1b45c2-b360-4f8a-8c71-a38c091cedca",
        "colab": {
          "base_uri": "https://localhost:8080/"
        }
      },
      "outputs": [
        {
          "output_type": "stream",
          "name": "stdout",
          "text": [
            "[2, 4, 6]\n"
          ]
        }
      ],
      "source": [
        "from typing import List, Callable\n",
        "def apply(li: List[int], func: Callable[[int], int]) -> List[int]:\n",
        "    for i in range(len(li)):\n",
        "      li[i] = func(li[i])\n",
        "\n",
        "    return li\n",
        "\n",
        "\n",
        "a = [1, 2, 3]\n",
        "def times_2(num: int) -> int:\n",
        "    return num * 2\n",
        "\n",
        "apply(a, times_2)\n",
        "print(a)  # should print [2, 4, 6]"
      ]
    },
    {
      "cell_type": "markdown",
      "metadata": {
        "id": "iBomxDq7MOVY"
      },
      "source": [
        "By the way, this is a common pattern often called \"map\", but instead of applying the changes in place, it usually creates a new list. There's a built-in `map` function in Python that works similarly, but instead of creating a list, it creates an iterable."
      ]
    },
    {
      "cell_type": "markdown",
      "metadata": {
        "id": "2z8HqsaK0cfN"
      },
      "source": [
        "### Task 2\n",
        "\n",
        "Sometimes, it doesn't make sense to declare a function with a name just to apply it once. Here, the lambda function (or anonymous functions) comes to help. Use [lambda syntax](https://www.w3schools.com/python/python_lambda.asp) to call `apply`.\n"
      ]
    },
    {
      "cell_type": "code",
      "execution_count": 27,
      "metadata": {
        "id": "kva_9ycA0cfN",
        "tags": [
          "task_2"
        ],
        "outputId": "97973c31-c631-4837-db1f-6baae4962335",
        "colab": {
          "base_uri": "https://localhost:8080/"
        }
      },
      "outputs": [
        {
          "output_type": "stream",
          "name": "stdout",
          "text": [
            "[8, 10, 12]\n"
          ]
        }
      ],
      "source": [
        "b = [4, 5, 6]\n",
        "\n",
        "apply(b, lambda b: b*2)\n",
        "\n",
        "print(b)  # should print [8, 10, 12]"
      ]
    },
    {
      "cell_type": "markdown",
      "metadata": {
        "id": "IqjW7SGS0cfN"
      },
      "source": [
        "### Task 3\n",
        "\n",
        "For different reasons, we might want to limit the visibility scope of a function and declare it inside another function.\n",
        "\n",
        "Write a function `sum_even(li: List[int]) -> int` that will return the sum of only even elements of `li`. Define an inner function `is_even(num: int) -> bool` for convenience."
      ]
    },
    {
      "cell_type": "code",
      "execution_count": 55,
      "metadata": {
        "id": "p83RQvA40cfN",
        "tags": [
          "task_3"
        ],
        "outputId": "76e9d3a9-4a0c-4e11-bc1f-d35fd0adb894",
        "colab": {
          "base_uri": "https://localhost:8080/"
        }
      },
      "outputs": [
        {
          "output_type": "stream",
          "name": "stdout",
          "text": [
            "6\n"
          ]
        }
      ],
      "source": [
        "def sum_even(li: List[int]) -> int:\n",
        "  def is_even(num: int) -> bool:\n",
        "    return num % 2 == 0\n",
        "\n",
        "  res = 0\n",
        "  for i in li:\n",
        "    if is_even(i) == True:\n",
        "      res += i\n",
        "\n",
        "  return res\n",
        "\n",
        "\n",
        "\n",
        "c = [1,2,3,4,5]\n",
        "\n",
        "print(sum_even(c))"
      ]
    },
    {
      "cell_type": "markdown",
      "metadata": {
        "id": "fceBNTpUnip6"
      },
      "source": [
        "### Task 4\n",
        "\n",
        "Let's create a function called `add_logging(func: Callable) -> Callable`. As you see from the signature, it takes in a function and returns a function, to be more specific. The new function must do precisely the same as the original `func`, but before the call, we want a log message in the console that the function is called.\n",
        "\n",
        "You can see how `add_logging` will be used below."
      ]
    },
    {
      "cell_type": "code",
      "execution_count": 100,
      "metadata": {
        "id": "VsoALrbBnsjs",
        "tags": [
          "task_4"
        ],
        "outputId": "04891307-1c5d-4933-f457-caf4c05d88ba",
        "colab": {
          "base_uri": "https://localhost:8080/"
        }
      },
      "outputs": [
        {
          "output_type": "stream",
          "name": "stdout",
          "text": [
            "function `my_func` called at 2024-02-15T11:27:57Z\n",
            "2.5\n"
          ]
        }
      ],
      "source": [
        "import logging\n",
        "from datetime import datetime\n",
        "def add_logging(func: Callable) -> Callable:\n",
        "    print(f\"function `{func.__name__}` called at {datetime.now().strftime('%Y-%m-%dT%H:%M:%SZ')}\")\n",
        "    return func\n",
        "\n",
        "\n",
        "def my_func(num: int) -> int:\n",
        "    return 0.1 * num ** 2\n",
        "\n",
        "my_func_with_log = add_logging(my_func)\n",
        "\n",
        "print(my_func_with_log(5))\n",
        "\n",
        "# should print something like:\n",
        "# function `my_func` called at 2024-01-26T14:30:00Z\n",
        "# 2.6"
      ]
    },
    {
      "cell_type": "markdown",
      "metadata": {
        "id": "YpehHVhuMOVj"
      },
      "source": [
        "### Task 5\n",
        "\n",
        "As you might have already guessed, we implemented a decorator `add_logging`. Use syntax sugar with `@` to apply it to your function called `some_function`."
      ]
    },
    {
      "cell_type": "code",
      "execution_count": 101,
      "metadata": {
        "tags": [
          "task_5"
        ],
        "id": "Yu5VutQkMOVk",
        "outputId": "833de26a-532b-4fe6-c6c4-e16f62171152",
        "colab": {
          "base_uri": "https://localhost:8080/"
        }
      },
      "outputs": [
        {
          "output_type": "stream",
          "name": "stdout",
          "text": [
            "function `some_function` called at 2024-02-15T11:28:04Z\n"
          ]
        }
      ],
      "source": [
        "@add_logging\n",
        "def some_function():\n",
        "    pass\n",
        "\n",
        "some_function()\n",
        "# should print something like:\n",
        "# function `some_function` called at 2024-01-26T14:30:00Z"
      ]
    }
  ],
  "metadata": {
    "colab": {
      "provenance": [],
      "include_colab_link": true
    },
    "kernelspec": {
      "display_name": "venv",
      "language": "python",
      "name": "python3"
    },
    "language_info": {
      "codemirror_mode": {
        "name": "ipython",
        "version": 3
      },
      "file_extension": ".py",
      "mimetype": "text/x-python",
      "name": "python",
      "nbconvert_exporter": "python",
      "pygments_lexer": "ipython3",
      "version": "3.11.5"
    },
    "orig_nbformat": 4
  },
  "nbformat": 4,
  "nbformat_minor": 0
}