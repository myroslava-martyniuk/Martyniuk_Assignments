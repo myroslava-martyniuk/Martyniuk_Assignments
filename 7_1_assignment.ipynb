{
  "cells": [
    {
      "cell_type": "markdown",
      "metadata": {
        "id": "view-in-github",
        "colab_type": "text"
      },
      "source": [
        "<a href=\"https://colab.research.google.com/github/myroslava-martyniuk/Martyniuk_Assignments/blob/main/7_1_assignment.ipynb\" target=\"_parent\"><img src=\"https://colab.research.google.com/assets/colab-badge.svg\" alt=\"Open In Colab\"/></a>"
      ]
    },
    {
      "cell_type": "markdown",
      "metadata": {
        "id": "K-xXkt9Ztf7J"
      },
      "source": [
        "# Assignment 7.1\n",
        "\n",
        "> Replace all TODOs with your code.\n",
        ">\n",
        "> Do not change any other code and do not add/remove cells!"
      ]
    },
    {
      "cell_type": "code",
      "execution_count": null,
      "metadata": {
        "id": "sGdc6BbbALg9"
      },
      "outputs": [],
      "source": [
        "# Do not edit this cell\n",
        "\n",
        "from typing import List, Dict"
      ]
    },
    {
      "cell_type": "markdown",
      "metadata": {
        "id": "cfhcjaX0vXXa"
      },
      "source": [
        "## Clients"
      ]
    },
    {
      "cell_type": "markdown",
      "metadata": {
        "id": "Vlz14hyr6wV6"
      },
      "source": [
        "### Task 1\n",
        "\n",
        "Write a function that takes a GitHub repository name as input and uses the [GitHub Repository API](https://docs.github.com/en/rest/repos) to retrieve and return information about the specified repository, including:\n",
        "\n",
        "* Repository Name\n",
        "* Owner\n",
        "* Description\n",
        "* License (if available)\n",
        "* Creation Date\n",
        "\n",
        "Use the `requests` module for this task."
      ]
    },
    {
      "cell_type": "code",
      "execution_count": null,
      "metadata": {
        "id": "vDYn-dRb7xIX"
      },
      "outputs": [],
      "source": [
        "def get_repository_info(repo_name):\n",
        "    url = f\"https://api.github.com/repos/{repo_name}\"\n",
        "\n",
        "\n",
        "    response = requests.get(url)\n",
        "\n",
        "\n",
        "    if response.status_code == 200:\n",
        "        data = response.json()\n",
        "        return {\n",
        "            \"name\": data[\"name\"],\n",
        "            \"owner\": data[\"owner\"][\"login\"],\n",
        "            \"description\": data.get(\"description\", \"\"),\n",
        "            \"license\": data.get(\"license\", None),\n",
        "            \"created_at\": data[\"created_at\"],\n",
        "        }\n",
        "    else:\n",
        "        print(\"Error\")\n",
        "        return None\n",
        "\n",
        "get_repository_info(\"octocat/Hello-World\")"
      ]
    },
    {
      "cell_type": "markdown",
      "metadata": {
        "id": "0TC34gv79VEo"
      },
      "source": [
        "### Task 2\n",
        "\n",
        "Write a function that takes a GitHub repository name and uses the [GitHub Commits API](https://docs.github.com/en/rest/commits/commits) to retrieve and return information about the five most recent commits in a selected GitHub repository, including:\n",
        "* Commit Message\n",
        "* Author\n",
        "* Date\n",
        "* Link to the commit on GitHub\n",
        "\n",
        "Use the `requests` module for this task."
      ]
    },
    {
      "cell_type": "code",
      "execution_count": null,
      "metadata": {
        "id": "Kf2284dT-atu"
      },
      "outputs": [],
      "source": [
        "def get_recent_commits(repo_name):\n",
        "    url = f\"https://api.github.com/repos/{repo_name}/commits?per_page=5\"\n",
        "\n",
        "\n",
        "    response = requests.get(url)\n",
        "\n",
        "\n",
        "    if response.status_code == 200:\n",
        "        data = response.json()\n",
        "        commits = []\n",
        "        for commit in data:\n",
        "            commit_info = {\n",
        "                \"message\": commit[\"commit\"][\"message\"],\n",
        "                \"author\": commit[\"commit\"][\"author\"][\"name\"],\n",
        "                \"sha\": commit[\"sha\"],\n",
        "                \"html_url\": commit[\"html_url\"],\n",
        "                \"date\": commit[\"commit\"][\"committer\"][\"date\"],\n",
        "            }\n",
        "        commits.append(commit_info)\n",
        "        return commits\n",
        "    else:\n",
        "        print(f\"Error retrieving commits for repository: {repo_name} (Status code: {response.status_code})\")\n",
        "        return []\n",
        "\n",
        "get_recent_commits(\"octocat/Hello-World\")"
      ]
    }
  ],
  "metadata": {
    "colab": {
      "provenance": [],
      "include_colab_link": true
    },
    "kernelspec": {
      "display_name": "Python 3",
      "name": "python3"
    },
    "language_info": {
      "name": "python"
    }
  },
  "nbformat": 4,
  "nbformat_minor": 0
}