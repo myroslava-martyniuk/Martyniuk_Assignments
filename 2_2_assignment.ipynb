{
  "cells": [
    {
      "cell_type": "markdown",
      "metadata": {
        "id": "view-in-github",
        "colab_type": "text"
      },
      "source": [
        "<a href=\"https://colab.research.google.com/github/myroslava-martyniuk/Martyniuk_Assignments/blob/main/2_2_assignment.ipynb\" target=\"_parent\"><img src=\"https://colab.research.google.com/assets/colab-badge.svg\" alt=\"Open In Colab\"/></a>"
      ]
    },
    {
      "cell_type": "markdown",
      "metadata": {
        "id": "-89_Z_je0cfL"
      },
      "source": [
        "# Assignment 2.2\n",
        "\n",
        "> Replace all TODOs with your code.\n",
        ">\n",
        "> Do not change any other code and do not add/remove cells!"
      ]
    },
    {
      "cell_type": "markdown",
      "source": [
        "## For-loop"
      ],
      "metadata": {
        "id": "w6E-GxTB0j4M"
      }
    },
    {
      "cell_type": "markdown",
      "metadata": {
        "id": "iEwuf_DP0cfM"
      },
      "source": [
        "### Task 1\n",
        "\n",
        "Write a program that prints the numbers from `a` to `b` using for loop."
      ]
    },
    {
      "cell_type": "code",
      "execution_count": 5,
      "metadata": {
        "tags": [],
        "id": "IWVOCWxx0cfM",
        "colab": {
          "base_uri": "https://localhost:8080/"
        },
        "outputId": "855e106f-8065-4126-e964-07e9a30904bf"
      },
      "outputs": [
        {
          "output_type": "stream",
          "name": "stdout",
          "text": [
            "1 2 3 4 5 "
          ]
        }
      ],
      "source": [
        "a = 1\n",
        "b = 5\n",
        "\n",
        "for i in range(a, b + 1):\n",
        "  print(i, end = ' ')\n",
        "\n",
        "\n",
        "# should print 1 2 3 4 5"
      ]
    },
    {
      "cell_type": "markdown",
      "source": [
        "## Functions"
      ],
      "metadata": {
        "id": "mZydlWw_0wzt"
      }
    },
    {
      "cell_type": "markdown",
      "metadata": {
        "id": "2z8HqsaK0cfN"
      },
      "source": [
        "### Task 2\n",
        "\n",
        "Create a function called `is_prime` that takes a number as a parameter, returns `True` if the number is prime, and `False` otherwise."
      ]
    },
    {
      "cell_type": "code",
      "execution_count": 12,
      "metadata": {
        "id": "kva_9ycA0cfN",
        "colab": {
          "base_uri": "https://localhost:8080/"
        },
        "outputId": "1fb18f30-768e-4c21-fe3d-f69ad4ee79f8"
      },
      "outputs": [
        {
          "output_type": "stream",
          "name": "stdout",
          "text": [
            "Is 11 a prime? False\n",
            "Is 9 a prime? False\n"
          ]
        }
      ],
      "source": [
        "def is_prime(num):\n",
        "    for i in range(2, num):\n",
        "      if num % i == 0:\n",
        "        return False\n",
        "\n",
        "    return True\n",
        "\n",
        "print('Is 11 a prime?', is_prime(11))  # should be True\n",
        "print('Is 9 a prime?', is_prime(9))  # should be False"
      ]
    },
    {
      "cell_type": "markdown",
      "metadata": {
        "id": "IqjW7SGS0cfN"
      },
      "source": [
        "### Task 3\n",
        "\n",
        "Write a function called `find_primes` that takes two integers, `a` and `b`, and prints all the prime numbers between `a` and `b` (inclusive).\n",
        "\n",
        "You can use the function from the previous exercise."
      ]
    },
    {
      "cell_type": "code",
      "execution_count": 29,
      "metadata": {
        "id": "p83RQvA40cfN",
        "colab": {
          "base_uri": "https://localhost:8080/"
        },
        "outputId": "76df7663-4914-413d-9c55-b342731b7c15"
      },
      "outputs": [
        {
          "output_type": "stream",
          "name": "stdout",
          "text": [
            "1 2 3 5 7 11 "
          ]
        }
      ],
      "source": [
        "def find_primes(a: int, b: int) -> int:\n",
        "\n",
        "    for i in range(a, b + 1):\n",
        "        if is_prime(i) == True:\n",
        "            print(i, end = ' ')\n",
        "\n",
        "\n",
        "\n",
        "find_primes(1, 11)  # should print 1 2 3 5 7 11"
      ]
    },
    {
      "cell_type": "markdown",
      "source": [
        "### Task 4\n",
        "\n",
        "Write a function called `reverse_words` that takes a sentence as a parameter and prints the sentence with each word reversed, but the words are in the same order."
      ],
      "metadata": {
        "id": "fceBNTpUnip6"
      }
    },
    {
      "cell_type": "code",
      "source": [
        "def reversed_string(string):\n",
        "  reverse = ''\n",
        "  index = len(string) - 1\n",
        "  while index >= 0:\n",
        "      reverse = reverse + string[index]\n",
        "      index = index - 1\n",
        "  return reverse\n",
        "\n",
        "def reverse_words(string):\n",
        "  splitted_string = string.split(' ')\n",
        "  reverse = \"\"\n",
        "  index = 0\n",
        "  separator = ' '\n",
        "  while index < len(splitted_string):\n",
        "      if index == len(splitted_string) - 1:\n",
        "        separator = ''\n",
        "      reverse = reverse + reversed_string(splitted_string[index]) + separator\n",
        "      index = index + 1\n",
        "\n",
        "  print(reverse)\n",
        "\n",
        "string = \"Quick brown fox jumps over a lazy dog\"\n",
        "reverse_words(string)\n",
        "#reverse_words(\"Quick brown fox jumps over a lazy dog\")  # should print \"kciuQ nworb xof spmuj revo a yzal god\""
      ],
      "metadata": {
        "id": "VsoALrbBnsjs",
        "colab": {
          "base_uri": "https://localhost:8080/"
        },
        "outputId": "340412f8-209c-4065-8bff-7e947ef4c8bd"
      },
      "execution_count": 41,
      "outputs": [
        {
          "output_type": "stream",
          "name": "stdout",
          "text": [
            "kciuQ nworb xof spmuj revo a yzal god\n"
          ]
        }
      ]
    }
  ],
  "metadata": {
    "kernelspec": {
      "display_name": "venv",
      "language": "python",
      "name": "python3"
    },
    "language_info": {
      "codemirror_mode": {
        "name": "ipython",
        "version": 3
      },
      "file_extension": ".py",
      "mimetype": "text/x-python",
      "name": "python",
      "nbconvert_exporter": "python",
      "pygments_lexer": "ipython3",
      "version": "3.9.6"
    },
    "orig_nbformat": 4,
    "colab": {
      "provenance": [],
      "include_colab_link": true
    }
  },
  "nbformat": 4,
  "nbformat_minor": 0
}